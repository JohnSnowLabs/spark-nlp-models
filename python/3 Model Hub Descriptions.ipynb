{
 "cells": [
  {
   "cell_type": "code",
   "execution_count": 1,
   "metadata": {
    "scrolled": true
   },
   "outputs": [],
   "source": [
    "from jinja2 import Environment, PackageLoader, select_autoescape, meta\n",
    "import pandas as pd, boto3, re, pytz, numpy as np\n",
    "from datetime import datetime\n",
    "from tabulate import tabulate\n",
    "from sparknlp.base import *\n",
    "from sparknlp.pretrained import *\n",
    "from sparknlp.annotator import *\n",
    "from sparknlp_jsl.annotator import *\n",
    "pd.set_option(\"display.max_rows\",1000)"
   ]
  },
  {
   "cell_type": "code",
   "execution_count": 2,
   "metadata": {},
   "outputs": [],
   "source": [
    "#all_models_meta = pd.read_csv(\"docs_module/metadata/models_metadata_all.csv\")\n",
    "#all_classes_meta = pd.read_csv(\"docs_module/metadata/class_metadata_all.csv\")\n",
    "#full_meta = pd.merge(all_models_meta[all_models_meta.include==1], all_classes_meta, on=\"Model Class\", how=(\"left\"), suffixes=(\"\",\"class\"))\n",
    "\n",
    "full_meta = pd.read_csv(\"docs_module/metadata/all_models_metadata.csv\")\n"
   ]
  },
  {
   "cell_type": "code",
   "execution_count": 3,
   "metadata": {
    "scrolled": true
   },
   "outputs": [
    {
     "ename": "KeyError",
     "evalue": "\"None of [Index(['Model Name', 'Model Class', 'Spark Compatibility',\\n       'Spark NLP Compatibility', 'License', 'Edition', 'Input Labels',\\n       'Output Labels', 'Language', 'Dimension', 'Case Sensitive',\\n       'Upstream Dependencies'],\\n      dtype='object')] are in the [columns]\"",
     "output_type": "error",
     "traceback": [
      "\u001b[0;31m---------------------------------------------------------------------------\u001b[0m",
      "\u001b[0;31mKeyError\u001b[0m                                  Traceback (most recent call last)",
      "\u001b[0;32m<ipython-input-3-e37adb41f18f>\u001b[0m in \u001b[0;36m<module>\u001b[0;34m\u001b[0m\n\u001b[1;32m      5\u001b[0m     \u001b[0;32mreturn\u001b[0m \u001b[0mtabulate\u001b[0m\u001b[0;34m(\u001b[0m\u001b[0mdf\u001b[0m\u001b[0;34m,\u001b[0m\u001b[0mtablefmt\u001b[0m\u001b[0;34m=\u001b[0m\u001b[0;34m\"github\"\u001b[0m\u001b[0;34m)\u001b[0m\u001b[0;34m\u001b[0m\u001b[0;34m\u001b[0m\u001b[0m\n\u001b[1;32m      6\u001b[0m \u001b[0mfull_meta\u001b[0m\u001b[0;34m[\u001b[0m\u001b[0;34m\"table\"\u001b[0m\u001b[0;34m]\u001b[0m \u001b[0;34m=\u001b[0m\u001b[0;31m \u001b[0m\u001b[0;31m\\\u001b[0m\u001b[0;34m\u001b[0m\u001b[0;34m\u001b[0m\u001b[0m\n\u001b[0;32m----> 7\u001b[0;31m     \u001b[0mfull_meta\u001b[0m\u001b[0;34m[\u001b[0m\u001b[0;34m[\u001b[0m\u001b[0;34m\"Model Name\"\u001b[0m\u001b[0;34m,\u001b[0m\u001b[0;34m\"Model Class\"\u001b[0m\u001b[0;34m,\u001b[0m\u001b[0;34m\"Spark Compatibility\"\u001b[0m\u001b[0;34m,\u001b[0m\u001b[0;34m\"Spark NLP Compatibility\"\u001b[0m\u001b[0;34m,\u001b[0m\u001b[0;34m\"License\"\u001b[0m\u001b[0;34m,\u001b[0m\u001b[0;34m\"Edition\"\u001b[0m\u001b[0;34m,\u001b[0m\u001b[0;34m\"Input Labels\"\u001b[0m\u001b[0;34m,\u001b[0m\u001b[0;34m\"Output Labels\"\u001b[0m\u001b[0;34m,\u001b[0m\u001b[0;34m\"Language\"\u001b[0m\u001b[0;34m,\u001b[0m\u001b[0;34m\"Dimension\"\u001b[0m\u001b[0;34m,\u001b[0m\u001b[0;34m\"Case Sensitive\"\u001b[0m\u001b[0;34m,\u001b[0m\u001b[0;34m\"Upstream Dependencies\"\u001b[0m\u001b[0;34m]\u001b[0m\u001b[0;34m]\u001b[0m\u001b[0;31m\\\u001b[0m\u001b[0;34m\u001b[0m\u001b[0;34m\u001b[0m\u001b[0m\n\u001b[0m\u001b[1;32m      8\u001b[0m     \u001b[0;34m.\u001b[0m\u001b[0mapply\u001b[0m\u001b[0;34m(\u001b[0m\u001b[0mtabulate_row\u001b[0m\u001b[0;34m,\u001b[0m \u001b[0maxis\u001b[0m\u001b[0;34m=\u001b[0m\u001b[0;36m1\u001b[0m\u001b[0;34m)\u001b[0m\u001b[0;34m\u001b[0m\u001b[0;34m\u001b[0m\u001b[0m\n",
      "\u001b[0;32m~/anaconda3/envs/tensorflow_p36/lib/python3.6/site-packages/pandas/core/frame.py\u001b[0m in \u001b[0;36m__getitem__\u001b[0;34m(self, key)\u001b[0m\n\u001b[1;32m   2906\u001b[0m             \u001b[0;32mif\u001b[0m \u001b[0mis_iterator\u001b[0m\u001b[0;34m(\u001b[0m\u001b[0mkey\u001b[0m\u001b[0;34m)\u001b[0m\u001b[0;34m:\u001b[0m\u001b[0;34m\u001b[0m\u001b[0;34m\u001b[0m\u001b[0m\n\u001b[1;32m   2907\u001b[0m                 \u001b[0mkey\u001b[0m \u001b[0;34m=\u001b[0m \u001b[0mlist\u001b[0m\u001b[0;34m(\u001b[0m\u001b[0mkey\u001b[0m\u001b[0;34m)\u001b[0m\u001b[0;34m\u001b[0m\u001b[0;34m\u001b[0m\u001b[0m\n\u001b[0;32m-> 2908\u001b[0;31m             \u001b[0mindexer\u001b[0m \u001b[0;34m=\u001b[0m \u001b[0mself\u001b[0m\u001b[0;34m.\u001b[0m\u001b[0mloc\u001b[0m\u001b[0;34m.\u001b[0m\u001b[0m_get_listlike_indexer\u001b[0m\u001b[0;34m(\u001b[0m\u001b[0mkey\u001b[0m\u001b[0;34m,\u001b[0m \u001b[0maxis\u001b[0m\u001b[0;34m=\u001b[0m\u001b[0;36m1\u001b[0m\u001b[0;34m,\u001b[0m \u001b[0mraise_missing\u001b[0m\u001b[0;34m=\u001b[0m\u001b[0;32mTrue\u001b[0m\u001b[0;34m)\u001b[0m\u001b[0;34m[\u001b[0m\u001b[0;36m1\u001b[0m\u001b[0;34m]\u001b[0m\u001b[0;34m\u001b[0m\u001b[0;34m\u001b[0m\u001b[0m\n\u001b[0m\u001b[1;32m   2909\u001b[0m \u001b[0;34m\u001b[0m\u001b[0m\n\u001b[1;32m   2910\u001b[0m         \u001b[0;31m# take() does not accept boolean indexers\u001b[0m\u001b[0;34m\u001b[0m\u001b[0;34m\u001b[0m\u001b[0;34m\u001b[0m\u001b[0m\n",
      "\u001b[0;32m~/anaconda3/envs/tensorflow_p36/lib/python3.6/site-packages/pandas/core/indexing.py\u001b[0m in \u001b[0;36m_get_listlike_indexer\u001b[0;34m(self, key, axis, raise_missing)\u001b[0m\n\u001b[1;32m   1252\u001b[0m             \u001b[0mkeyarr\u001b[0m\u001b[0;34m,\u001b[0m \u001b[0mindexer\u001b[0m\u001b[0;34m,\u001b[0m \u001b[0mnew_indexer\u001b[0m \u001b[0;34m=\u001b[0m \u001b[0max\u001b[0m\u001b[0;34m.\u001b[0m\u001b[0m_reindex_non_unique\u001b[0m\u001b[0;34m(\u001b[0m\u001b[0mkeyarr\u001b[0m\u001b[0;34m)\u001b[0m\u001b[0;34m\u001b[0m\u001b[0;34m\u001b[0m\u001b[0m\n\u001b[1;32m   1253\u001b[0m \u001b[0;34m\u001b[0m\u001b[0m\n\u001b[0;32m-> 1254\u001b[0;31m         \u001b[0mself\u001b[0m\u001b[0;34m.\u001b[0m\u001b[0m_validate_read_indexer\u001b[0m\u001b[0;34m(\u001b[0m\u001b[0mkeyarr\u001b[0m\u001b[0;34m,\u001b[0m \u001b[0mindexer\u001b[0m\u001b[0;34m,\u001b[0m \u001b[0maxis\u001b[0m\u001b[0;34m,\u001b[0m \u001b[0mraise_missing\u001b[0m\u001b[0;34m=\u001b[0m\u001b[0mraise_missing\u001b[0m\u001b[0;34m)\u001b[0m\u001b[0;34m\u001b[0m\u001b[0;34m\u001b[0m\u001b[0m\n\u001b[0m\u001b[1;32m   1255\u001b[0m         \u001b[0;32mreturn\u001b[0m \u001b[0mkeyarr\u001b[0m\u001b[0;34m,\u001b[0m \u001b[0mindexer\u001b[0m\u001b[0;34m\u001b[0m\u001b[0;34m\u001b[0m\u001b[0m\n\u001b[1;32m   1256\u001b[0m \u001b[0;34m\u001b[0m\u001b[0m\n",
      "\u001b[0;32m~/anaconda3/envs/tensorflow_p36/lib/python3.6/site-packages/pandas/core/indexing.py\u001b[0m in \u001b[0;36m_validate_read_indexer\u001b[0;34m(self, key, indexer, axis, raise_missing)\u001b[0m\n\u001b[1;32m   1296\u001b[0m             \u001b[0;32mif\u001b[0m \u001b[0mmissing\u001b[0m \u001b[0;34m==\u001b[0m \u001b[0mlen\u001b[0m\u001b[0;34m(\u001b[0m\u001b[0mindexer\u001b[0m\u001b[0;34m)\u001b[0m\u001b[0;34m:\u001b[0m\u001b[0;34m\u001b[0m\u001b[0;34m\u001b[0m\u001b[0m\n\u001b[1;32m   1297\u001b[0m                 \u001b[0maxis_name\u001b[0m \u001b[0;34m=\u001b[0m \u001b[0mself\u001b[0m\u001b[0;34m.\u001b[0m\u001b[0mobj\u001b[0m\u001b[0;34m.\u001b[0m\u001b[0m_get_axis_name\u001b[0m\u001b[0;34m(\u001b[0m\u001b[0maxis\u001b[0m\u001b[0;34m)\u001b[0m\u001b[0;34m\u001b[0m\u001b[0;34m\u001b[0m\u001b[0m\n\u001b[0;32m-> 1298\u001b[0;31m                 \u001b[0;32mraise\u001b[0m \u001b[0mKeyError\u001b[0m\u001b[0;34m(\u001b[0m\u001b[0;34mf\"None of [{key}] are in the [{axis_name}]\"\u001b[0m\u001b[0;34m)\u001b[0m\u001b[0;34m\u001b[0m\u001b[0;34m\u001b[0m\u001b[0m\n\u001b[0m\u001b[1;32m   1299\u001b[0m \u001b[0;34m\u001b[0m\u001b[0m\n\u001b[1;32m   1300\u001b[0m             \u001b[0;31m# We (temporarily) allow for some missing keys with .loc, except in\u001b[0m\u001b[0;34m\u001b[0m\u001b[0;34m\u001b[0m\u001b[0;34m\u001b[0m\u001b[0m\n",
      "\u001b[0;31mKeyError\u001b[0m: \"None of [Index(['Model Name', 'Model Class', 'Spark Compatibility',\\n       'Spark NLP Compatibility', 'License', 'Edition', 'Input Labels',\\n       'Output Labels', 'Language', 'Dimension', 'Case Sensitive',\\n       'Upstream Dependencies'],\\n      dtype='object')] are in the [columns]\""
     ]
    }
   ],
   "source": [
    "def tabulate_row(x):\n",
    "    if \"dimension\" in x.index:\n",
    "        x[\"dimension\"] = None if not x[\"dimension\"] or pd.isna(x[\"dimension\"]) else str(int(x[\"dimension\"]))\n",
    "    df = pd.DataFrame(x).dropna()\n",
    "    return tabulate(df,tablefmt=\"github\")\n",
    "full_meta[\"table\"] = \\\n",
    "    full_meta[[\"Model Name\",\"Model Class\",\"Spark Compatibility\",\"Spark NLP Compatibility\",\"License\",\"Edition\",\"Input Labels\",\"Output Labels\",\"Language\",\"Dimension\",\"Case Sensitive\",\"Upstream Dependencies\"]]\\\n",
    "    .apply(tabulate_row, axis=1)"
   ]
  },
  {
   "cell_type": "code",
   "execution_count": 4,
   "metadata": {},
   "outputs": [],
   "source": [
    "env = Environment(\n",
    "    loader=PackageLoader('docs_module', 'templates'),\n",
    "    autoescape=select_autoescape(['html', 'xml'])\n",
    ")"
   ]
  },
  {
   "cell_type": "code",
   "execution_count": 242,
   "metadata": {},
   "outputs": [],
   "source": [
    "mdsrc = env.loader.get_source(env, 'model.md')[0]\n",
    "parsed_content = env.parse(mdsrc)\n",
    "#meta.find_undeclared_variables(parsed_content)"
   ]
  },
  {
   "cell_type": "code",
   "execution_count": 243,
   "metadata": {},
   "outputs": [],
   "source": [
    "mdmd = env.get_template(\"model.md\")"
   ]
  },
  {
   "cell_type": "code",
   "execution_count": 244,
   "metadata": {},
   "outputs": [],
   "source": [
    "full_meta.fillna(\"\",inplace=True)"
   ]
  },
  {
   "cell_type": "code",
   "execution_count": null,
   "metadata": {},
   "outputs": [],
   "source": []
  },
  {
   "cell_type": "code",
   "execution_count": 245,
   "metadata": {},
   "outputs": [],
   "source": [
    "def generate_code(x, scala=False):\n",
    "    ins = \",\".join([f'\"{y.strip()}\"' for y in x.inputs.split(\",\")])\n",
    "    is_pl = x.model_class in [\"PipelineModel\"]\n",
    "    class_to_call = x.model_class if not is_pl else \"PretrainedPipeline\"\n",
    "    meth_to_call = \"pretrained\" if not is_pl else \"downloadPipeline\"\n",
    "    fun = f\"{class_to_call}\"\n",
    "    if not is_pl:\n",
    "        fun = fun+f\".{meth_to_call}\"\n",
    "    language = f\"Some({x.language})\" if scala and is_pl else x.language\n",
    "    language = x.language\n",
    "    c = f'model = {fun}(\"{x[\"name\"]}\",\"{language}\",\"{x.repo}\")'\n",
    "    if not is_pl:\n",
    "        c += f'\\\\\\n\\t.setInputCols({ins})\\\\\\n\\t.setOutputCol(\"{x.output}\")'\n",
    "    else:\n",
    "        c+='\\n\\nmodel.annotate(\"Include a healthcare document here. Can be a prescription, medical note, anything...\")'\n",
    "    return \"val \"+c.replace(\"\\\\\",\"\") if scala else c\n",
    "\n",
    "def generate_buttons(x):\n",
    "    ret = \"{:.btn-box}\\n\"\n",
    "    if x.demo_url:\n",
    "        ret = ret + f\"[Live Demo]({x.demo_url})\"+\"{:.button.button-orange}<br/>\"\n",
    "    else:\n",
    "        ret = ret + \"<button class=\\\"button button-orange\\\" disabled>Live Demo</button><br/>\"\n",
    "    if x.colab_url:\n",
    "        ret = ret + f\"[Open in Colab]({x.colab_url})\"+\"{:.button.button-orange.button-orange-trans.co.button-icon}<br/>\"\n",
    "    else:\n",
    "        ret = ret + \"<button class=\\\"button button-orange\\\" disabled>Open in Colab</button><br/>\"\n",
    "    if x.download_url:\n",
    "        ret = ret + f\"[Download]({x.download_url})\"+\"{:.button.button-orange.button-orange-trans.arr.button-icon}<br/>\"\n",
    "    else:\n",
    "        ret = ret + \"<button class=\\\"button button-orange\\\" disabled>Download</button><br/>\"\n",
    "    return ret\n",
    "                                   \n",
    "# full_meta[\"python_sample\"] = full_meta.apply(generate_code, axis=1)\n",
    "full_meta[\"python_sample\"] =\"\"\n",
    "# full_meta[\"scala_sample\"] = full_meta.apply(lambda x: generate_code(x, True), axis=1)\n",
    "full_meta[\"scala_sample\"]=\"\"\n",
    "full_meta[\"buttons\"] = full_meta.apply(generate_buttons, axis=1)\n",
    "# full_meta[\"real_labels\"] = full_meta.apply(lambda r: None if r.model_class!=\"NerDLModel\" else NerDLModel.pretrained(r[\"name\"],r.language,r.repo).getClasses(), axis=1)"
   ]
  },
  {
   "cell_type": "code",
   "execution_count": 246,
   "metadata": {},
   "outputs": [],
   "source": [
    "for i, r in full_meta.iterrows():\n",
    "    with open(f\"docs_module/output/{r.latest_date}-{r['Model Name']}_{r.Language}.md\",\"w\") as f:\n",
    "        f.write(mdmd.render(**r))\n"
   ]
  },
  {
   "cell_type": "code",
   "execution_count": null,
   "metadata": {},
   "outputs": [],
   "source": []
  },
  {
   "cell_type": "code",
   "execution_count": null,
   "metadata": {},
   "outputs": [],
   "source": []
  }
 ],
 "metadata": {
  "kernelspec": {
   "display_name": "Environment (conda_tensorflow_p36)",
   "language": "python",
   "name": "conda_tensorflow_p36"
  },
  "language_info": {
   "codemirror_mode": {
    "name": "ipython",
    "version": 3
   },
   "file_extension": ".py",
   "mimetype": "text/x-python",
   "name": "python",
   "nbconvert_exporter": "python",
   "pygments_lexer": "ipython3",
   "version": "3.6.10"
  }
 },
 "nbformat": 4,
 "nbformat_minor": 2
}
