{
 "cells": [
  {
   "cell_type": "code",
   "execution_count": 1,
   "metadata": {},
   "outputs": [],
   "source": [
    "from jinja2 import Environment, PackageLoader, select_autoescape, meta\n",
    "import pandas as pd, boto3, re, pytz\n",
    "from datetime import datetime\n",
    "from tabulate import tabulate\n",
    "from sparknlp.annotator import *\n",
    "from sparknlp_jsl.annotator import *\n",
    "pd.set_option(\"display.max_rows\",1000)"
   ]
  },
  {
   "cell_type": "code",
   "execution_count": 2,
   "metadata": {},
   "outputs": [
    {
     "data": {
      "text/plain": [
       "(87, 48)"
      ]
     },
     "execution_count": 2,
     "metadata": {},
     "output_type": "execute_result"
    }
   ],
   "source": [
    "all_models_meta = pd.read_csv(\"docs_module/metadata/models_metadata_all.csv\")\n",
    "all_classes_meta = pd.read_csv(\"docs_module/metadata/class_metadata_all.csv\")\n",
    "full_meta = pd.merge(all_models_meta[all_models_meta.include==1], all_classes_meta, on=\"model_class\", how=(\"left\"), suffixes=(\"\",\"class\"))\n",
    "full_meta.shape"
   ]
  },
  {
   "cell_type": "code",
   "execution_count": 3,
   "metadata": {},
   "outputs": [],
   "source": [
    "def tabulate_row(x):\n",
    "    return tabulate(pd.DataFrame(x).dropna(),tablefmt=\"github\")\n",
    "full_meta[\"table\"] = \\\n",
    "    full_meta[[\"name\",\"model_class\",\"compatibility\",\"license\",\"edition\",\"inputs\",\"output\",\"language\",\"dimension\",\"case_sensitive\",\"upstream_deps\"]]\\\n",
    "    .apply(tabulate_row, axis=1)"
   ]
  },
  {
   "cell_type": "code",
   "execution_count": 4,
   "metadata": {},
   "outputs": [],
   "source": [
    "env = Environment(\n",
    "    loader=PackageLoader('docs_module', 'templates'),\n",
    "    autoescape=select_autoescape(['html', 'xml'])\n",
    ")"
   ]
  },
  {
   "cell_type": "code",
   "execution_count": 5,
   "metadata": {},
   "outputs": [],
   "source": [
    "mdsrc = env.loader.get_source(env, 'model.md')[0]\n",
    "parsed_content = env.parse(mdsrc)\n",
    "#meta.find_undeclared_variables(parsed_content)"
   ]
  },
  {
   "cell_type": "code",
   "execution_count": 6,
   "metadata": {},
   "outputs": [],
   "source": [
    "mdmd = env.get_template(\"model.md\")"
   ]
  },
  {
   "cell_type": "code",
   "execution_count": 7,
   "metadata": {},
   "outputs": [],
   "source": [
    "full_meta.fillna(\"\",inplace=True)"
   ]
  },
  {
   "cell_type": "code",
   "execution_count": 8,
   "metadata": {},
   "outputs": [],
   "source": [
    "def generate_code(x, scala=False):\n",
    "    ins = \",\".join([f'\"{y.strip()}\"' for y in x.inputs.split(\",\")])\n",
    "    c = f'model = {x.model_class}.pretrained(\"{x[\"name\"]}\",\"{x.language}\",\"{x.repo}\")\\n\\t.setInputCols({ins})\\n\\t.setOutputCol(\"{x.output}\")'\n",
    "    return \"val \"+c if scala else c\n",
    "\n",
    "def generate_buttons(x):\n",
    "    ret = \"{:.btn-box}\\n\" if x.demo_url or x.colab_url or x.download_url else \"\"\n",
    "    if x.demo_url:\n",
    "        ret = ret + f\"[Live Demo]({x.demo_url})\"+\"{:.button.button-orange}\"\n",
    "    if x.colab_url:\n",
    "        ret = ret + f\"[Open in Colab]({x.colab_url})\"+\"{:.button.button-orange.button-orange-trans.co.button-icon}\"\n",
    "    if x.download_url:\n",
    "        ret = ret + f\"[Download]({x.download_url})\"+\"{:.button.button-orange.button-orange-trans.arr.button-icon}\"\n",
    "    return ret\n",
    "                                   \n",
    "#full_meta[\"model_title_seo\"] = full_meta.class_description + \": \" +full_meta.name\n",
    "full_meta[\"python_sample\"] = full_meta.apply(generate_code, axis=1)\n",
    "full_meta[\"scala_sample\"] = full_meta.apply(lambda x: generate_code(x, True), axis=1)\n",
    "full_meta[\"buttons\"] = full_meta.apply(generate_buttons, axis=1)\n",
    "# full_meta[\"real_labels\"] = full_meta.apply(lambda r: None if r.model_class!=\"NerDLModel\" else NerDLModel.pretrained(r[\"name\"],r.language,r.repo).getClasses(), axis=1)"
   ]
  },
  {
   "cell_type": "code",
   "execution_count": 9,
   "metadata": {},
   "outputs": [],
   "source": [
    "# for i, r in full_meta.iterrows():\n",
    "#     with open(f\"docs_module/output/{r.latest_date.replace('-','')}_{r.model_class}_{r['name']}_{r.language}.md\",\"w\") as f:\n",
    "#         f.write(mdmd.render(**r))"
   ]
  },
  {
   "cell_type": "code",
   "execution_count": 10,
   "metadata": {},
   "outputs": [],
   "source": [
    "for i, r in full_meta.iterrows():\n",
    "\n",
    "    with open(f\"docs_module/output/{r.latest_date}-{r['name']}_{r.language}.md\",\"w\") as f:\n",
    "\n",
    "        f.write(mdmd.render(**r))\n"
   ]
  },
  {
   "cell_type": "code",
   "execution_count": null,
   "metadata": {},
   "outputs": [],
   "source": []
  }
 ],
 "metadata": {
  "kernelspec": {
   "display_name": "jsl250",
   "language": "python",
   "name": "jsl250"
  },
  "language_info": {
   "codemirror_mode": {
    "name": "ipython",
    "version": 3
   },
   "file_extension": ".py",
   "mimetype": "text/x-python",
   "name": "python",
   "nbconvert_exporter": "python",
   "pygments_lexer": "ipython3",
   "version": "3.6.9"
  }
 },
 "nbformat": 4,
 "nbformat_minor": 2
}
