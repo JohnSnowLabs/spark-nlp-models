{
 "cells": [
  {
   "cell_type": "code",
   "execution_count": 1,
   "metadata": {},
   "outputs": [],
   "source": [
    "import pandas as pd, boto3, re, pytz\n",
    "from datetime import datetime\n",
    "from tabulate import tabulate\n",
    "pd.set_option(\"display.max_rows\",1000)"
   ]
  },
  {
   "cell_type": "markdown",
   "metadata": {},
   "source": [
    "### First download real status from S3"
   ]
  },
  {
   "cell_type": "code",
   "execution_count": 2,
   "metadata": {},
   "outputs": [],
   "source": [
    "s3 = boto3.client('s3')\n",
    "bucket = 'auxdata.johnsnowlabs.com'\n",
    "bucket_url = f\"https://s3.console.aws.amazon.com/s3/object/{bucket}\"\n",
    "download_url = f\"s3://{bucket}/\""
   ]
  },
  {
   "cell_type": "code",
   "execution_count": 3,
   "metadata": {},
   "outputs": [],
   "source": [
    "langs = [\"en\",\"es\",\"de\",\"xx\"]\n",
    "splitter = \"(\"+\"|\".join([f\"_{x}_\" for x in langs])+\")\"\n",
    "\n",
    "def get_s3_metadata(prefix=\"clinical/models\"):\n",
    "    return s3.list_objects_v2(\n",
    "    Bucket=bucket,\n",
    "    EncodingType='url',\n",
    "    Prefix=prefix)\n",
    "\n",
    "def filter_desired_names(content):\n",
    "    return [k[\"Key\"] for k in content\n",
    "         if (k[\"Key\"][-3:]==\"zip\" and \n",
    "         \"2ng\" not in k[\"Key\"]and \n",
    "         \"icdoem\" not in k[\"Key\"] and\n",
    "         \"snomed_l\" not in k[\"Key\"] and\n",
    "         \"rxnorm_l\" not in k[\"Key\"] and\n",
    "         \"/resolve\" not in k[\"Key\"] and\n",
    "         \"ensembleresolve\" not in k[\"Key\"] and\n",
    "         \"noncontrib\" not in k[\"Key\"] and\n",
    "         \"embeddings_icd10_base\" not in k[\"Key\"] and\n",
    "         \"icdem\" not in k[\"Key\"] and\n",
    "         \"demo\" not in k[\"Key\"] and\n",
    "         \"_n2c\" not in k[\"Key\"] and\n",
    "         \"people_disambiguator\" not in k[\"Key\"] and  \n",
    "         (\"2.4.\" in k[\"Key\"] or \"2.5.\" in k[\"Key\"] or \"2.6.\" in k[\"Key\"])) or\n",
    "        \"pos_clinical\" in k[\"Key\"] or \"deidentify_rb\" in k[\"Key\"]\n",
    "        ]\n",
    "\n",
    "def split_stuff(x):\n",
    "    s3_meta = [x.split(\"/\") for x in x]\n",
    "    s3_meta = [(\"/\".join(x[:2]), *re.split(splitter,x[-1])) for x in s3_meta]\n",
    "    s3_meta = [(a,b,c.replace(\"_\",\"\"),*d.replace(\".zip\",\"\").split(\"_\")) for a,b,c,d in s3_meta]\n",
    "    return s3_meta\n",
    "\n",
    "def aggregate_stuff(x):\n",
    "    x = pd.DataFrame(x, columns=[\"repo\",\"name\",\"language\",\"compatibility\",\"spark_version\",\"ts\"])\n",
    "    x[\"latest_version\"] = x.compatibility\n",
    "    x[\"latest_date\"] = x.ts.apply(lambda x: datetime.fromtimestamp(int(x)/1000,pytz.utc).strftime(\"%Y-%m-%d\"))\n",
    "    x = x.groupby([\"repo\",\"name\",\"language\"]).agg({\"compatibility\":min, \"latest_version\":max, \"spark_version\":max, \"latest_date\":max, \"ts\":max}).reset_index()\n",
    "#     x = x[x.compatibility.str.startswith(\"2.3\")|x.compatibility.str.startswith(\"2.4\")|x.compatibility.str.startswith(\"2.5\")|x.compatibility.str.startswith(\"2.6\")].reset_index(drop=True)\n",
    "    return x\n",
    "\n",
    "def get_clean_metadata(prefix=\"clinical/models\"):\n",
    "    x = get_s3_metadata(prefix)\n",
    "    x = filter_desired_names(x[\"Contents\"])\n",
    "    x = split_stuff(x)\n",
    "    x = aggregate_stuff(x)\n",
    "    return x"
   ]
  },
  {
   "cell_type": "code",
   "execution_count": 25,
   "metadata": {},
   "outputs": [],
   "source": [
    "s3_meta = get_clean_metadata()\n",
    "s3_meta[\"file\"] = s3_meta.name+\"_\"+s3_meta.language+\"_\"+s3_meta.latest_version+\"_\"+s3_meta.spark_version+\"_\"+s3_meta.ts+\".zip\"\n",
    "s3_meta[\"dataset\"] = \"s3\""
   ]
  },
  {
   "cell_type": "markdown",
   "metadata": {},
   "source": [
    "### Then load the manually curated csv's\n",
    "- Class Metadata (Manual from Andres and Christian)\n",
    "- Models Metadata (Manual from Andres and Christian)\n",
    "- Parsed from existing MDs in notebook #1 "
   ]
  },
  {
   "cell_type": "code",
   "execution_count": 5,
   "metadata": {},
   "outputs": [],
   "source": [
    "cls_meta = pd.read_csv(\"docs_module/metadata/class_metadata_all.csv\").fillna(\"\")\n",
    "md_meta  = pd.read_csv(\"docs_module/metadata/model_metadata_licensed.csv\").fillna(\"\")\n",
    "ex_meta  = pd.read_csv(\"docs_module/metadata/model_metadata_existing.csv\").fillna(\"\")\n",
    "ex_meta = ex_meta[ex_meta.license==\"Licensed\"]"
   ]
  },
  {
   "cell_type": "code",
   "execution_count": 6,
   "metadata": {},
   "outputs": [
    {
     "name": "stdout",
     "output_type": "stream",
     "text": [
      "(65, 12) (36, 25) (65, 14)\n"
     ]
    }
   ],
   "source": [
    "mdcls_meta = pd.merge(md_meta, cls_meta[[\"model_class\",\"inputs\",\"output\"]], on=\"model_class\")\n",
    "print(md_meta.shape, cls_meta.shape, mdcls_meta.shape)"
   ]
  },
  {
   "cell_type": "code",
   "execution_count": 7,
   "metadata": {},
   "outputs": [
    {
     "name": "stdout",
     "output_type": "stream",
     "text": [
      "(100, 9) (65, 14) (100, 20)\n"
     ]
    }
   ],
   "source": [
    "mds3_meta = pd.merge(s3_meta, mdcls_meta, on=[\"repo\",\"name\",\"language\"], how=\"outer\")\n",
    "print(s3_meta.shape, mdcls_meta.shape, mds3_meta.shape)"
   ]
  },
  {
   "cell_type": "code",
   "execution_count": 8,
   "metadata": {},
   "outputs": [
    {
     "name": "stdout",
     "output_type": "stream",
     "text": [
      "(100, 20) (25, 25) (100, 29)\n"
     ]
    }
   ],
   "source": [
    "ex_fields = [\"name\",\"language\"]+list(set(ex_meta.columns).difference(mds3_meta.columns))\n",
    "full_meta = pd.merge(mds3_meta, ex_meta[ex_fields], on=[\"name\",\"language\"], how=\"outer\")\n",
    "print(mds3_meta.shape, ex_meta.shape, full_meta.shape)"
   ]
  },
  {
   "cell_type": "code",
   "execution_count": 9,
   "metadata": {},
   "outputs": [],
   "source": [
    "full_meta.license.fillna(\"Licensed\",inplace=True)\n",
    "full_meta.repo.fillna(\"clinical/models\",inplace=True)"
   ]
  },
  {
   "cell_type": "code",
   "execution_count": 10,
   "metadata": {},
   "outputs": [],
   "source": [
    "full_meta[\"ts\"] = full_meta.ts.astype(str)\n",
    "full_meta[\"spark_version\"] = full_meta.spark_version.astype(str)"
   ]
  },
  {
   "cell_type": "code",
   "execution_count": 11,
   "metadata": {},
   "outputs": [],
   "source": [
    "def tabulate_row(x):\n",
    "    return tabulate(pd.DataFrame(x).dropna(),tablefmt=\"github\")\n",
    "full_meta[\"table\"] = \\\n",
    "    full_meta[[\"name\",\"model_class\",\"compatibility\",\"license\",\"edition\",\"inputs\",\"output\",\"language\",\"dimension\",\"case_sensitive\"]]\\\n",
    "    .apply(tabulate_row, axis=1)"
   ]
  },
  {
   "cell_type": "code",
   "execution_count": 12,
   "metadata": {},
   "outputs": [],
   "source": [
    "full_meta.drop(\"table\",axis=1).to_csv(\"docs_module/metadata/models_metadata_all.csv\",index=False)"
   ]
  },
  {
   "cell_type": "code",
   "execution_count": null,
   "metadata": {},
   "outputs": [],
   "source": []
  }
 ],
 "metadata": {
  "kernelspec": {
   "display_name": "jsl368",
   "language": "python",
   "name": "jsl368"
  },
  "language_info": {
   "codemirror_mode": {
    "name": "ipython",
    "version": 3
   },
   "file_extension": ".py",
   "mimetype": "text/x-python",
   "name": "python",
   "nbconvert_exporter": "python",
   "pygments_lexer": "ipython3",
   "version": "3.6.8"
  }
 },
 "nbformat": 4,
 "nbformat_minor": 2
}
