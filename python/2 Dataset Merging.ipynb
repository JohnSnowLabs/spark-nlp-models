{
 "cells": [
  {
   "cell_type": "code",
   "execution_count": 1,
   "metadata": {},
   "outputs": [],
   "source": [
    "from docs_module import langs\n",
    "import pandas as pd, boto3, re, pytz\n",
    "from datetime import datetime\n",
    "from tabulate import tabulate\n",
    "pd.set_option(\"display.max_rows\",1000)"
   ]
  },
  {
   "cell_type": "markdown",
   "metadata": {},
   "source": [
    "### First download real status from S3"
   ]
  },
  {
   "cell_type": "code",
   "execution_count": 2,
   "metadata": {},
   "outputs": [],
   "source": [
    "s3 = boto3.client('s3')\n",
    "bucket = 'auxdata.johnsnowlabs.com'\n",
    "bucket_url = f\"https://s3.console.aws.amazon.com/s3/object/{bucket}\"\n",
    "download_url = f\"s3://{bucket}/\""
   ]
  },
  {
   "cell_type": "code",
   "execution_count": 3,
   "metadata": {},
   "outputs": [],
   "source": [
    "langs_arr = dict(langs.lang_codes).keys()"
   ]
  },
  {
   "cell_type": "code",
   "execution_count": 9,
   "metadata": {},
   "outputs": [],
   "source": [
    "splitter = \"(\"+\"|\".join([f\"_{x}_\" for x in langs_arr])+\")\"\n",
    "\n",
    "def get_s3_metadata(prefix=\"clinical/models\"):\n",
    "    return s3.list_objects_v2(\n",
    "    Bucket=bucket,\n",
    "    EncodingType='url',\n",
    "    Prefix=prefix)\n",
    "\n",
    "def filter_desired_names(content):\n",
    "    return [k[\"Key\"] for k in content\n",
    "         if k[\"Key\"][-3:]==\"zip\" and \n",
    "         \"2ng\" not in k[\"Key\"]and \n",
    "         \"icdoem\" not in k[\"Key\"] and\n",
    "         \"snomed_l\" not in k[\"Key\"] and\n",
    "         \"rxnorm_l\" not in k[\"Key\"] and\n",
    "         \"/resolve\" not in k[\"Key\"] and\n",
    "         \"ensembleresolve\" not in k[\"Key\"] and\n",
    "         \"noncontrib\" not in k[\"Key\"] and\n",
    "         \"embeddings_icd10_base\" not in k[\"Key\"] and\n",
    "         \"icdem\" not in k[\"Key\"] and\n",
    "         \"demo\" not in k[\"Key\"] and\n",
    "         \"stopwords\" not in k[\"Key\"] and\n",
    "         \"_use_xling\" not in k[\"Key\"]    and  \n",
    "         (\"2.4.\" in k[\"Key\"] or \"2.5.\" in k[\"Key\"] or \"2.6.\" in k[\"Key\"]           )        \n",
    "        ]\n",
    "\n",
    "def split_stuff(x):\n",
    "    s3_meta = [x.split(\"/\") for x in x]\n",
    "    s3_meta = [(\"/\".join(x[:2]), *re.split(splitter,x[-1])) for x in s3_meta]\n",
    "    s3_meta = [(a,b,c.replace(\"_\",\"\"),*d.replace(\".zip\",\"\").split(\"_\")) for a,b,c,d in s3_meta]\n",
    "    return s3_meta\n",
    "\n",
    "def aggregate_stuff(x):\n",
    "    for y in x:\n",
    "        if len(y)==7:\n",
    "            print(y)\n",
    "    x = pd.DataFrame(x, columns=[\"repo\",\"name\",\"language\",\"compatibility\",\"spark_version\",\"ts\"])\n",
    "    x[\"latest_date\"] = x.ts.apply(lambda x: datetime.fromtimestamp(int(x)/1000,pytz.utc).strftime(\"%Y-%m-%d\"))\n",
    "    x = x.groupby([\"repo\",\"name\",\"language\"]).agg({\"compatibility\":min, \"spark_version\":max, \"latest_date\":max, \"ts\":max}).reset_index()\n",
    "    x = x[x.compatibility.str.startswith(\"2.4\")|x.compatibility.str.startswith(\"2.5\")|x.compatibility.str.startswith(\"2.6\")].reset_index(drop=True)\n",
    "    return x\n",
    "\n",
    "def get_clean_metadata(prefix=\"clinical/models\"):\n",
    "    x = get_s3_metadata(prefix)\n",
    "    x = filter_desired_names(x[\"Contents\"])\n",
    "    x = split_stuff(x)\n",
    "    x = aggregate_stuff(x)\n",
    "    return x"
   ]
  },
  {
   "cell_type": "code",
   "execution_count": 10,
   "metadata": {},
   "outputs": [],
   "source": [
    "x = get_clean_metadata(\"public/models\")"
   ]
  },
  {
   "cell_type": "code",
   "execution_count": null,
   "metadata": {},
   "outputs": [],
   "source": []
  },
  {
   "cell_type": "code",
   "execution_count": 11,
   "metadata": {},
   "outputs": [],
   "source": [
    "s3_meta = get_clean_metadata(\"public/models\")\n",
    "s3_meta[\"file\"] = s3_meta.name+\"_\"+s3_meta.language+\"_\"+s3_meta.compatibility+\"_\"+s3_meta.spark_version+\"_\"+s3_meta.ts+\".zip\""
   ]
  },
  {
   "cell_type": "code",
   "execution_count": 12,
   "metadata": {},
   "outputs": [],
   "source": [
    "s3_meta.to_csv(\"models_metadata.csv\")"
   ]
  },
  {
   "cell_type": "markdown",
   "metadata": {},
   "source": [
    "### Then load the manually curated csv's\n",
    "- Class Metadata (Manual from Andres and Christian)\n",
    "- Models Metadata (Manual from Andres and Christian)\n",
    "- Parsed from existing MDs in notebook #1 "
   ]
  },
  {
   "cell_type": "code",
   "execution_count": 13,
   "metadata": {},
   "outputs": [],
   "source": [
    "s3_meta[~s3_meta.name.isin(md_meta.name)]"
   ]
  },
  {
   "cell_type": "code",
   "execution_count": 11,
   "metadata": {},
   "outputs": [],
   "source": [
    "cls_meta = pd.read_csv(\"docs_module/metadata/class_metadata_all.csv\").fillna(\"\")\n",
    "ex_meta  = pd.read_csv(\"docs_module/metadata/model_metadata_existing.csv\").fillna(\"\")"
   ]
  },
  {
   "cell_type": "code",
   "execution_count": null,
   "metadata": {},
   "outputs": [],
   "source": [
    "mdcls_meta = pd.merge(md_meta, cls_meta, on=\"model_class\")\n",
    "print(md_meta.shape, cls_meta.shape, mdcls_meta.shape)"
   ]
  },
  {
   "cell_type": "code",
   "execution_count": null,
   "metadata": {},
   "outputs": [],
   "source": [
    "mds3_meta = pd.merge(s3_meta, mdcls_meta, on=[\"repo\",\"name\",\"language\"], how=\"left\")\n",
    "print(s3_meta.shape, mdcls_meta.shape, mds3_meta.shape)"
   ]
  },
  {
   "cell_type": "code",
   "execution_count": null,
   "metadata": {},
   "outputs": [],
   "source": [
    "full_meta = pd.concat([mds3_meta, ex_meta], axis=0, sort=False)\n",
    "print(mds3_meta.shape, ex_meta.shape, full_meta.shape)"
   ]
  },
  {
   "cell_type": "code",
   "execution_count": 9,
   "metadata": {},
   "outputs": [
    {
     "data": {
      "text/plain": [
       "{'case_sensitive',\n",
       " 'colab_url',\n",
       " 'demo_url',\n",
       " 'dimension',\n",
       " 'download_url',\n",
       " 'file',\n",
       " 'first_version',\n",
       " 'included_models',\n",
       " 'inputs',\n",
       " 'latest_date',\n",
       " 'output',\n",
       " 'type'}"
      ]
     },
     "execution_count": 9,
     "metadata": {},
     "output_type": "execute_result"
    }
   ],
   "source": [
    "set(sorted(list(ex_meta.columns))).difference(sorted(list(md_meta.columns)))"
   ]
  },
  {
   "cell_type": "code",
   "execution_count": 8,
   "metadata": {},
   "outputs": [
    {
     "data": {
      "text/plain": [
       "{'model_class', 'reference_url', 'repo', 'upstream_deps'}"
      ]
     },
     "execution_count": 8,
     "metadata": {},
     "output_type": "execute_result"
    }
   ],
   "source": [
    "set(sorted(list(md_meta.columns))).difference(sorted(list(ex_meta.columns)))"
   ]
  },
  {
   "cell_type": "code",
   "execution_count": 20,
   "metadata": {},
   "outputs": [],
   "source": [
    "def tabulate_row(x):\n",
    "    return tabulate(pd.DataFrame(x).dropna(),tablefmt=\"github\")\n",
    "full_meta[\"table\"] = \\\n",
    "    full_meta[[\"name\",\"model_class\",\"compatibility\",\"license\",\"edition\",\"inputs\",\"output\",\"language\",\"dimension\",\"case_sensitive\"]]\\\n",
    "    .apply(tabulate_row, axis=1)"
   ]
  },
  {
   "cell_type": "code",
   "execution_count": null,
   "metadata": {},
   "outputs": [],
   "source": []
  }
 ],
 "metadata": {
  "kernelspec": {
   "display_name": "jsl368",
   "language": "python",
   "name": "jsl368"
  },
  "language_info": {
   "codemirror_mode": {
    "name": "ipython",
    "version": 3
   },
   "file_extension": ".py",
   "mimetype": "text/x-python",
   "name": "python",
   "nbconvert_exporter": "python",
   "pygments_lexer": "ipython3",
   "version": "3.6.8"
  }
 },
 "nbformat": 4,
 "nbformat_minor": 2
}
