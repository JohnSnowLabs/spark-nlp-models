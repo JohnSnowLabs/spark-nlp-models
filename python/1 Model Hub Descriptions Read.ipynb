{
 "cells": [
  {
   "cell_type": "code",
   "execution_count": 1,
   "metadata": {},
   "outputs": [],
   "source": [
    "import pandas as pd, boto3, re, os\n",
    "pd.set_option(\"display.max_rows\",1000)\n",
    "pd.set_option(\"display.max_colwidth\",1000)"
   ]
  },
  {
   "cell_type": "code",
   "execution_count": 2,
   "metadata": {},
   "outputs": [],
   "source": [
    "root = \"../../spark-nlp/docs/_posts/\"\n",
    "files = os.listdir(root)"
   ]
  },
  {
   "cell_type": "markdown",
   "metadata": {},
   "source": [
    "### Parse posts"
   ]
  },
  {
   "cell_type": "code",
   "execution_count": 3,
   "metadata": {},
   "outputs": [],
   "source": [
    "data = []\n",
    "for fp in files:\n",
    "    state = \"\"\n",
    "    with open(f\"{root}{fp}\", \"r\") as f:\n",
    "        text = f.readlines()\n",
    "        record = {\"file\": fp}\n",
    "        for line in text:\n",
    "            any_cond = any([line.startswith(t) for t in [\"##\", \"---\", \"{:.btn-box}\"]])\n",
    "            clean_line = re.sub(\"[\\n\\r\\f ]*{:.h2_title}\",\"\",line).strip()\n",
    "            if any_cond:\n",
    "                if line.startswith(\"---\"):\n",
    "                    state = \"\" if state==\"---\" else \"---\"\n",
    "                elif line.startswith(\"{:.btn-box}\"):\n",
    "                    state = \"links\"\n",
    "                else:\n",
    "                    state = line.replace(\"\\n\",\"\").strip()\n",
    "            else:\n",
    "                if state == \"---\":\n",
    "                    key_val = line.split(\":\")\n",
    "                    if len(key_val)==2:\n",
    "                        record[key_val[0].strip()] =  key_val[1].strip()\n",
    "                elif record.get(state, None) is None:\n",
    "                    record[state] = clean_line\n",
    "                else:\n",
    "                    if clean_line:\n",
    "                        record[state] = record[state] + \"\\n\" + clean_line\n",
    "        data.append(record)\n",
    "        \n",
    "            "
   ]
  },
  {
   "cell_type": "code",
   "execution_count": 4,
   "metadata": {},
   "outputs": [],
   "source": [
    "df = pd.DataFrame(data)"
   ]
  },
  {
   "cell_type": "markdown",
   "metadata": {},
   "source": [
    "### Coalesce different types of labels into `labels` and `dataset_info` fields and rename"
   ]
  },
  {
   "cell_type": "code",
   "execution_count": 5,
   "metadata": {},
   "outputs": [],
   "source": [
    "df[\"labels\"] = df[\"## Included Entities\"].mask(pd.isnull,df[\"## Predicted Entities\"].mask(pd.isnull,df[\"## Included Relations\"].mask(pd.isnull,df[\"## Included Assertions\"])))\n",
    "df[\"dataset_info\"] = df[\"## Dataset used for training\"].mask(pd.isnull,df[\"## Source\"])"
   ]
  },
  {
   "cell_type": "code",
   "execution_count": 6,
   "metadata": {},
   "outputs": [
    {
     "name": "stdout",
     "output_type": "stream",
     "text": [
      "mapping = {\n",
      "\"file\":\"xxx\",\n",
      "\"layout\":\"xxx\",\n",
      "\"title\":\"xxx\",\n",
      "\"author\":\"xxx\",\n",
      "\"name\":\"xxx\",\n",
      "\"date\":\"xxx\",\n",
      "\"tags\":\"xxx\",\n",
      "\"article_header\":\"xxx\",\n",
      "\"type\":\"xxx\",\n",
      "\"use_language_switcher\":\"xxx\",\n",
      "\"\":\"xxx\",\n",
      "\"## Description\":\"xxx\",\n",
      "\"links\":\"xxx\",\n",
      "\"## How to use\":\"xxx\",\n",
      "\"## Model Parameters\":\"xxx\",\n",
      "\"## Source\":\"xxx\",\n",
      "\"## Included Entities\":\"xxx\",\n",
      "\"## Dataset used for training\":\"xxx\",\n",
      "\"## Results\":\"xxx\",\n",
      "\"## Predicted Entities\":\"xxx\",\n",
      "\"## Included Models\":\"xxx\",\n",
      "\"## Included Assertions\":\"xxx\",\n",
      "\"## Included Relations\":\"xxx\",\n",
      "\"labels\":\"xxx\",\n",
      "\"dataset_info\":\"xxx\",\n",
      "}\n"
     ]
    }
   ],
   "source": [
    "print(\"mapping = {\")\n",
    "for c in df.columns:\n",
    "    print('\"'+c+'\":\"xxx\",')\n",
    "print(\"}\")"
   ]
  },
  {
   "cell_type": "code",
   "execution_count": 7,
   "metadata": {},
   "outputs": [],
   "source": [
    "mapping = {\n",
    "\"title\":\"title\",\n",
    "\"labels\":\"labels\",\n",
    "\"author\":\"author\",\n",
    "\"name\":\"name\",\n",
    "\"date\":\"latest_date\",\n",
    "\"tags\":\"tags\",\n",
    "\"links\":\"links\",\n",
    "\"## Description\":\"description\",\n",
    "\"## How to use\":\"code_samples\",\n",
    "\"dataset_info\":\"dataset_info\",\n",
    "\"## Included Models\":\"included_models\",\n",
    "\"## Model Parameters\":\"model_info\",\n",
    "}"
   ]
  },
  {
   "cell_type": "markdown",
   "metadata": {},
   "source": [
    "### Parse \"model parameters\" more specifically and add columns to the recordsand rename"
   ]
  },
  {
   "cell_type": "code",
   "execution_count": 8,
   "metadata": {},
   "outputs": [],
   "source": [
    "df.rename(mapping, axis=1, inplace=True)\n",
    "df = df[mapping.values()].copy()"
   ]
  },
  {
   "cell_type": "code",
   "execution_count": 9,
   "metadata": {},
   "outputs": [],
   "source": [
    "def structure_info(x):\n",
    "    ar = [ari.replace(\"|\",\"\").split(\":\") for ari in re.split(\"\\n+\",x) if ari!=\"\" and len(ari.split(\":|\"))>1]\n",
    "    dd = {ari[0]:re.sub(\"[\\[\\]]+\",\"\",ari[1]).replace(\"Spark NLP\",\"\").replace(\"for Healthcare\",\"\").strip() for ari in ar}\n",
    "    return dd\n",
    "    \n",
    "str_info = df.model_info.apply(structure_info)\n",
    "\n",
    "all_keys=[]\n",
    "for s in str_info:\n",
    "    for k in s.keys():\n",
    "        all_keys.append(k)\n",
    "all_keys = set(all_keys)"
   ]
  },
  {
   "cell_type": "code",
   "execution_count": 10,
   "metadata": {},
   "outputs": [],
   "source": [
    "for k in all_keys:\n",
    "    df[k] = str_info.apply(lambda x: x.get(k, None))"
   ]
  },
  {
   "cell_type": "code",
   "execution_count": 11,
   "metadata": {},
   "outputs": [],
   "source": [
    "remapping = {\n",
    "\"Dimension\":\"dimension\",\n",
    "\"Edition\":\"edition\",\n",
    "\"Language\":\"language\",\n",
    "\"License\":\"license\",\n",
    "\"Compatibility\":\"compatibility\",\n",
    "\"Input Labels\":\"inputs\",\n",
    "\"Case sensitive\":\"case_sensitive\",\n",
    "\"Output Labels\":\"output\",\n",
    "\"Type\":\"type\",\n",
    "}"
   ]
  },
  {
   "cell_type": "code",
   "execution_count": 12,
   "metadata": {},
   "outputs": [],
   "source": [
    "df.rename(remapping, axis=1, inplace=True)"
   ]
  },
  {
   "cell_type": "markdown",
   "metadata": {},
   "source": [
    "### Fix manual `labels` and `description` field that contain the live demo button"
   ]
  },
  {
   "cell_type": "code",
   "execution_count": 13,
   "metadata": {},
   "outputs": [],
   "source": [
    "def structure_labels(x):\n",
    "    ar = [\"\"] if pd.isna(x) else [ari for ari in re.split(\"\\n\\[//\\]\",x) if ari!=\"\"]\n",
    "    ret=re.sub(\"[\\n-]+\",\",\",ar[0]).strip()\n",
    "    ret = ret.replace(\", , \",\",\")\n",
    "    ret = ret if ret and ret[-1]!=\",\" else ret[:-1]\n",
    "    ret = ret if ret and ret[0]!=\",\" else ret[1:]\n",
    "    ret = ret.strip()\n",
    "    return ret"
   ]
  },
  {
   "cell_type": "code",
   "execution_count": 14,
   "metadata": {},
   "outputs": [],
   "source": [
    "df[\"labels\"] = df.labels.apply(structure_labels)\n",
    "df[\"description\"] = df.description.apply(structure_labels)"
   ]
  },
  {
   "cell_type": "markdown",
   "metadata": {},
   "source": [
    "### Fix some records having the language in the `name` field"
   ]
  },
  {
   "cell_type": "code",
   "execution_count": 15,
   "metadata": {},
   "outputs": [],
   "source": [
    "langs = [\"en\",\"es\",\"de\",\"xx\"]\n",
    "splitter = \"(\"+\"|\".join([f\"_{x}\\\\b\" for x in langs])+\")\"\n",
    "df[\"name\"] = df[\"name\"].apply(lambda x: re.split(splitter, x)[0])"
   ]
  },
  {
   "cell_type": "markdown",
   "metadata": {},
   "source": [
    "### Parse all links from `links` field and add columns"
   ]
  },
  {
   "cell_type": "code",
   "execution_count": 16,
   "metadata": {},
   "outputs": [],
   "source": [
    "link_map = {\"Download\":\"download_url\",\"Live Demo\":\"demo_url\",\"Open in Colab\":\"colab_url\"}\n",
    "def structure_links(x):\n",
    "    m = {link_map[k]:v for k,v in re.findall(\"\\[(:?.+)\\]\\((:?.+)\\)\",x)}\n",
    "    return m\n",
    "df[\"links_arr\"] = df.links.apply(structure_links)"
   ]
  },
  {
   "cell_type": "code",
   "execution_count": 17,
   "metadata": {},
   "outputs": [],
   "source": [
    "for k in link_map.values():\n",
    "    df[k] = df.links_arr.apply(lambda x: x.get(k, None))"
   ]
  },
  {
   "cell_type": "code",
   "execution_count": 18,
   "metadata": {},
   "outputs": [],
   "source": [
    "df[\"file\"] = df.download_url.str.split(\"/\").apply(lambda x: x[-1])"
   ]
  },
  {
   "cell_type": "markdown",
   "metadata": {},
   "source": [
    "### Remove `+` from compatibility"
   ]
  },
  {
   "cell_type": "code",
   "execution_count": 19,
   "metadata": {},
   "outputs": [],
   "source": [
    "df[\"compatibility\"] = df.compatibility.apply(lambda x: x.replace(\"+\",\"\"))\n",
    "df[\"spark_version\"] = \"2.4\"\n",
    "df[\"ts\"] = df.file.apply(lambda x: int(x.split(\"_\")[-1].replace(\".zip\",\"\")))\n",
    "df[\"dataset\"] = \"mds\""
   ]
  },
  {
   "cell_type": "markdown",
   "metadata": {},
   "source": [
    "### Persist metadata parsed from existing MDs"
   ]
  },
  {
   "cell_type": "code",
   "execution_count": 20,
   "metadata": {},
   "outputs": [],
   "source": [
    "out = df.drop([\"Model Name\",\"code_samples\",\"model_info\",\"links\",\"links_arr\"],axis=1)"
   ]
  },
  {
   "cell_type": "code",
   "execution_count": 21,
   "metadata": {},
   "outputs": [],
   "source": [
    "out.to_csv(\"docs_module/metadata/model_metadata_existing.csv\", index=False)"
   ]
  },
  {
   "cell_type": "code",
   "execution_count": null,
   "metadata": {},
   "outputs": [],
   "source": []
  }
 ],
 "metadata": {
  "kernelspec": {
   "display_name": "jsl368",
   "language": "python",
   "name": "jsl368"
  },
  "language_info": {
   "codemirror_mode": {
    "name": "ipython",
    "version": 3
   },
   "file_extension": ".py",
   "mimetype": "text/x-python",
   "name": "python",
   "nbconvert_exporter": "python",
   "pygments_lexer": "ipython3",
   "version": "3.6.8"
  }
 },
 "nbformat": 4,
 "nbformat_minor": 2
}
