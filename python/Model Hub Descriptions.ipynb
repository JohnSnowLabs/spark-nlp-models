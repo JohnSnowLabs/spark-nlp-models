{
 "cells": [
  {
   "cell_type": "code",
   "execution_count": 51,
   "metadata": {},
   "outputs": [],
   "source": [
    "from jinja2 import Environment, PackageLoader, select_autoescape, meta\n",
    "import pandas as pd\n",
    "from nltk.tokenize.regexp import RegexpTokenizer"
   ]
  },
  {
   "cell_type": "code",
   "execution_count": 52,
   "metadata": {},
   "outputs": [],
   "source": [
    "tknzr = RegexpTokenizer(r\"\\w+\")"
   ]
  },
  {
   "cell_type": "code",
   "execution_count": 53,
   "metadata": {},
   "outputs": [],
   "source": [
    "env = Environment(\n",
    "    loader=PackageLoader('docs_module', 'templates'),\n",
    "    autoescape=select_autoescape(['html', 'xml'])\n",
    ")"
   ]
  },
  {
   "cell_type": "code",
   "execution_count": 55,
   "metadata": {},
   "outputs": [
    {
     "data": {
      "text/plain": [
       "{'class_annotation_sample',\n",
       " 'class_metadata_table',\n",
       " 'model_author',\n",
       " 'model_benchmarks',\n",
       " 'model_class',\n",
       " 'model_colab_url',\n",
       " 'model_dataset',\n",
       " 'model_date',\n",
       " 'model_demo_url',\n",
       " 'model_description',\n",
       " 'model_language',\n",
       " 'model_metadata_table',\n",
       " 'model_name',\n",
       " 'model_output_schema',\n",
       " 'model_predicted_labels',\n",
       " 'model_python_sample',\n",
       " 'model_repo',\n",
       " 'model_scala_sample',\n",
       " 'model_tags_str',\n",
       " 'model_title_seo'}"
      ]
     },
     "execution_count": 55,
     "metadata": {},
     "output_type": "execute_result"
    }
   ],
   "source": [
    "mdsrc = env.loader.get_source(env, 'model.md')[0]\n",
    "parsed_content = env.parse(mdsrc)\n",
    "meta.find_undeclared_variables(parsed_content)"
   ]
  },
  {
   "cell_type": "code",
   "execution_count": 48,
   "metadata": {},
   "outputs": [],
   "source": [
    "mdmd = env.get_template(\"model.md\")"
   ]
  },
  {
   "cell_type": "code",
   "execution_count": 49,
   "metadata": {},
   "outputs": [],
   "source": [
    "cls_meta = pd.read_csv(\"docs_module/metadata/class_metadata.csv\")\n",
    "md_meta  = pd.read_csv(\"docs_module/metadata/model_metadata.csv\")\n",
    "full_meta = pd.merge(md_meta, cls_meta, on=\"model_class\")"
   ]
  },
  {
   "cell_type": "code",
   "execution_count": 31,
   "metadata": {},
   "outputs": [],
   "source": [
    "full_meta[\"model_tags_str\"]  = full_meta.apply(lambda x: [z.lower() for y in x for z in tknzr.tokenize(y)], axis=1)\n",
    "full_meta[\"model_title_seo\"] = full_meta.class_description +\". \" + full_meta.model_dataset"
   ]
  },
  {
   "cell_type": "code",
   "execution_count": 32,
   "metadata": {},
   "outputs": [
    {
     "data": {
      "text/html": [
       "<div>\n",
       "<style scoped>\n",
       "    .dataframe tbody tr th:only-of-type {\n",
       "        vertical-align: middle;\n",
       "    }\n",
       "\n",
       "    .dataframe tbody tr th {\n",
       "        vertical-align: top;\n",
       "    }\n",
       "\n",
       "    .dataframe thead th {\n",
       "        text-align: right;\n",
       "    }\n",
       "</style>\n",
       "<table border=\"1\" class=\"dataframe\">\n",
       "  <thead>\n",
       "    <tr style=\"text-align: right;\">\n",
       "      <th></th>\n",
       "      <th>model_name</th>\n",
       "      <th>model_lang</th>\n",
       "      <th>upstream_deps</th>\n",
       "      <th>model_class</th>\n",
       "      <th>model_dataset</th>\n",
       "      <th>labels</th>\n",
       "      <th>reference_url</th>\n",
       "      <th>model_author</th>\n",
       "      <th>model_repo</th>\n",
       "      <th>class_description</th>\n",
       "      <th>model_tags_str</th>\n",
       "      <th>model_title_seo</th>\n",
       "    </tr>\n",
       "  </thead>\n",
       "  <tbody>\n",
       "    <tr>\n",
       "      <td>0</td>\n",
       "      <td>assertion_dl</td>\n",
       "      <td>en</td>\n",
       "      <td>embeddings_clinical</td>\n",
       "      <td>AssertionDLModel</td>\n",
       "      <td>Trained on 2010 i2b2/VA challenge on concepts,...</td>\n",
       "      <td>hypothetical, present, absent, possible, condi...</td>\n",
       "      <td>https://portal.dbmi.hms.harvard.edu/projects/n...</td>\n",
       "      <td>John Snow Labs</td>\n",
       "      <td>clinical/models</td>\n",
       "      <td>Deep Learning based Assertion of Clinical Enti...</td>\n",
       "      <td>[assertion_dl, en, embeddings_clinical, assert...</td>\n",
       "      <td>Deep Learning based Assertion of Clinical Enti...</td>\n",
       "    </tr>\n",
       "    <tr>\n",
       "      <td>1</td>\n",
       "      <td>assertion_dl_large</td>\n",
       "      <td>en</td>\n",
       "      <td>embeddings_clinical</td>\n",
       "      <td>AssertionDLModel</td>\n",
       "      <td>Trained on 2010 i2b2/VA challenge on concepts,...</td>\n",
       "      <td>hypothetical, present, absent, possible, condi...</td>\n",
       "      <td>https://portal.dbmi.hms.harvard.edu/projects/n...</td>\n",
       "      <td>John Snow Labs</td>\n",
       "      <td>clinical/models</td>\n",
       "      <td>Deep Learning based Assertion of Clinical Enti...</td>\n",
       "      <td>[assertion_dl_large, en, embeddings_clinical, ...</td>\n",
       "      <td>Deep Learning based Assertion of Clinical Enti...</td>\n",
       "    </tr>\n",
       "  </tbody>\n",
       "</table>\n",
       "</div>"
      ],
      "text/plain": [
       "           model_name model_lang        upstream_deps       model_class  \\\n",
       "0        assertion_dl         en  embeddings_clinical  AssertionDLModel   \n",
       "1  assertion_dl_large         en  embeddings_clinical  AssertionDLModel   \n",
       "\n",
       "                                       model_dataset  \\\n",
       "0  Trained on 2010 i2b2/VA challenge on concepts,...   \n",
       "1  Trained on 2010 i2b2/VA challenge on concepts,...   \n",
       "\n",
       "                                              labels  \\\n",
       "0  hypothetical, present, absent, possible, condi...   \n",
       "1  hypothetical, present, absent, possible, condi...   \n",
       "\n",
       "                                       reference_url    model_author  \\\n",
       "0  https://portal.dbmi.hms.harvard.edu/projects/n...  John Snow Labs   \n",
       "1  https://portal.dbmi.hms.harvard.edu/projects/n...  John Snow Labs   \n",
       "\n",
       "        model_repo                                  class_description  \\\n",
       "0  clinical/models  Deep Learning based Assertion of Clinical Enti...   \n",
       "1  clinical/models  Deep Learning based Assertion of Clinical Enti...   \n",
       "\n",
       "                                      model_tags_str  \\\n",
       "0  [assertion_dl, en, embeddings_clinical, assert...   \n",
       "1  [assertion_dl_large, en, embeddings_clinical, ...   \n",
       "\n",
       "                                     model_title_seo  \n",
       "0  Deep Learning based Assertion of Clinical Enti...  \n",
       "1  Deep Learning based Assertion of Clinical Enti...  "
      ]
     },
     "execution_count": 32,
     "metadata": {},
     "output_type": "execute_result"
    }
   ],
   "source": [
    "full_meta"
   ]
  },
  {
   "cell_type": "code",
   "execution_count": 33,
   "metadata": {},
   "outputs": [],
   "source": [
    "for i, r in full_meta.iterrows():\n",
    "    with open(f\"docs_module/output/{r.model_class}_{r.model_name}_{r.model_lang}\",\"w\") as f:\n",
    "        f.write(mdmd.render(**r))"
   ]
  },
  {
   "cell_type": "code",
   "execution_count": null,
   "metadata": {},
   "outputs": [],
   "source": []
  },
  {
   "cell_type": "code",
   "execution_count": null,
   "metadata": {},
   "outputs": [],
   "source": []
  }
 ],
 "metadata": {
  "kernelspec": {
   "display_name": "jsl368",
   "language": "python",
   "name": "jsl368"
  },
  "language_info": {
   "codemirror_mode": {
    "name": "ipython",
    "version": 3
   },
   "file_extension": ".py",
   "mimetype": "text/x-python",
   "name": "python",
   "nbconvert_exporter": "python",
   "pygments_lexer": "ipython3",
   "version": "3.6.8"
  }
 },
 "nbformat": 4,
 "nbformat_minor": 2
}
